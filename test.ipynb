{
 "cells": [
  {
   "cell_type": "code",
   "id": "initial_id",
   "metadata": {
    "collapsed": true,
    "ExecuteTime": {
     "end_time": "2025-06-03T06:05:48.981046Z",
     "start_time": "2025-06-03T06:05:45.771950Z"
    }
   },
   "source": [
    "from prefect.blocks.notifications import CustomWebhookNotificationBlock\n",
    "\n",
    "custom_webhook_block = CustomWebhookNotificationBlock.load(\"feishu\")\n",
    "\n",
    "custom_webhook_block.notify(\"Hello from Prefect!\")"
   ],
   "outputs": [
    {
     "ename": "AttributeError",
     "evalue": "'coroutine' object has no attribute 'notify'",
     "output_type": "error",
     "traceback": [
      "\u001B[31m---------------------------------------------------------------------------\u001B[39m",
      "\u001B[31mAttributeError\u001B[39m                            Traceback (most recent call last)",
      "\u001B[36mCell\u001B[39m\u001B[36m \u001B[39m\u001B[32mIn[2]\u001B[39m\u001B[32m, line 5\u001B[39m\n\u001B[32m      1\u001B[39m \u001B[38;5;28;01mfrom\u001B[39;00m\u001B[38;5;250m \u001B[39m\u001B[34;01mprefect\u001B[39;00m\u001B[34;01m.\u001B[39;00m\u001B[34;01mblocks\u001B[39;00m\u001B[34;01m.\u001B[39;00m\u001B[34;01mnotifications\u001B[39;00m\u001B[38;5;250m \u001B[39m\u001B[38;5;28;01mimport\u001B[39;00m CustomWebhookNotificationBlock\n\u001B[32m      3\u001B[39m custom_webhook_block = CustomWebhookNotificationBlock.load(\u001B[33m\"\u001B[39m\u001B[33mfeishu\u001B[39m\u001B[33m\"\u001B[39m)\n\u001B[32m----> \u001B[39m\u001B[32m5\u001B[39m custom_webhook_block.notify(\u001B[33m\"\u001B[39m\u001B[33mHello from Prefect!\u001B[39m\u001B[33m\"\u001B[39m)\n",
      "\u001B[31mAttributeError\u001B[39m: 'coroutine' object has no attribute 'notify'"
     ]
    }
   ],
   "execution_count": 2
  }
 ],
 "metadata": {
  "kernelspec": {
   "display_name": "Python 3",
   "language": "python",
   "name": "python3"
  },
  "language_info": {
   "codemirror_mode": {
    "name": "ipython",
    "version": 2
   },
   "file_extension": ".py",
   "mimetype": "text/x-python",
   "name": "python",
   "nbconvert_exporter": "python",
   "pygments_lexer": "ipython2",
   "version": "2.7.6"
  }
 },
 "nbformat": 4,
 "nbformat_minor": 5
}
